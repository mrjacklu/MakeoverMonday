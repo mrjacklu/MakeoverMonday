{
 "cells": [
  {
   "cell_type": "markdown",
   "metadata": {},
   "source": [
    "# Tableau - MakeoverMonday 2019 Week 37 \n",
    "\n",
    "**From 1996 to 2019, how many people checked out the books of James Patterson at the Seattle Public Library?**\n",
    "\n",
    "> *This project is based on the popular [#MakeoverMonday](https://twitter.com/hashtag/MakeoverMonday?src=hashtag_click&pf=on) data initiative run by Tableau Zen Master, [Andy Kriebel](http://www.makeovermonday.co.uk/), and [Eva Murray](https://trimydata.com/), Head of Business Intelligence at Exasol. Each week they provide an article that contains a data visualization and data set. Participants are able to look at the data set and see if they can come up with a better story, a different story by redesigning the chart using Tableau.*"
   ]
  },
  {
   "cell_type": "code",
   "execution_count": 1,
   "metadata": {},
   "outputs": [],
   "source": [
    "# Importing libraries\n",
    "\n",
    "import pandas as pd\n",
    "import numpy as np\n",
    "import seaborn as sns\n",
    "import matplotlib.pyplot as plt"
   ]
  },
  {
   "cell_type": "code",
   "execution_count": 2,
   "metadata": {},
   "outputs": [],
   "source": [
    "# Read csv data file into a pandas dataframe\n",
    "\n",
    "df = pd.read_csv(\"Seattle Library James Patterson Book Checkouts.csv\")"
   ]
  },
  {
   "cell_type": "code",
   "execution_count": 3,
   "metadata": {
    "scrolled": false
   },
   "outputs": [
    {
     "data": {
      "text/html": [
       "<div>\n",
       "<style scoped>\n",
       "    .dataframe tbody tr th:only-of-type {\n",
       "        vertical-align: middle;\n",
       "    }\n",
       "\n",
       "    .dataframe tbody tr th {\n",
       "        vertical-align: top;\n",
       "    }\n",
       "\n",
       "    .dataframe thead th {\n",
       "        text-align: right;\n",
       "    }\n",
       "</style>\n",
       "<table border=\"1\" class=\"dataframe\">\n",
       "  <thead>\n",
       "    <tr style=\"text-align: right;\">\n",
       "      <th></th>\n",
       "      <th>Material Type</th>\n",
       "      <th>Title</th>\n",
       "      <th>Series</th>\n",
       "      <th>Checkout Year</th>\n",
       "      <th>Checkout Month</th>\n",
       "      <th>Checkouts</th>\n",
       "      <th>Subjects</th>\n",
       "      <th>Publisher</th>\n",
       "      <th>Publication Year</th>\n",
       "    </tr>\n",
       "  </thead>\n",
       "  <tbody>\n",
       "    <tr>\n",
       "      <th>0</th>\n",
       "      <td>BOOK</td>\n",
       "      <td>#1 Suspect</td>\n",
       "      <td>NaN</td>\n",
       "      <td>2019</td>\n",
       "      <td>8</td>\n",
       "      <td>1</td>\n",
       "      <td>Private investigators California Fiction, Priv...</td>\n",
       "      <td>Little, Brown and Co.,</td>\n",
       "      <td>2012</td>\n",
       "    </tr>\n",
       "    <tr>\n",
       "      <th>1</th>\n",
       "      <td>BOOK</td>\n",
       "      <td>#1 Suspect</td>\n",
       "      <td>NaN</td>\n",
       "      <td>2019</td>\n",
       "      <td>6</td>\n",
       "      <td>1</td>\n",
       "      <td>Private investigators California Fiction, Priv...</td>\n",
       "      <td>Little, Brown and Co.,</td>\n",
       "      <td>2012</td>\n",
       "    </tr>\n",
       "    <tr>\n",
       "      <th>2</th>\n",
       "      <td>BOOK</td>\n",
       "      <td>#1 Suspect</td>\n",
       "      <td>NaN</td>\n",
       "      <td>2019</td>\n",
       "      <td>6</td>\n",
       "      <td>2</td>\n",
       "      <td>Private investigators California Fiction, Priv...</td>\n",
       "      <td>Little, Brown and Co.,</td>\n",
       "      <td>2012</td>\n",
       "    </tr>\n",
       "    <tr>\n",
       "      <th>3</th>\n",
       "      <td>BOOK</td>\n",
       "      <td>#1 Suspect</td>\n",
       "      <td>NaN</td>\n",
       "      <td>2019</td>\n",
       "      <td>5</td>\n",
       "      <td>1</td>\n",
       "      <td>Private investigators California Fiction, Priv...</td>\n",
       "      <td>Little, Brown and Co.,</td>\n",
       "      <td>2012</td>\n",
       "    </tr>\n",
       "    <tr>\n",
       "      <th>4</th>\n",
       "      <td>BOOK</td>\n",
       "      <td>#1 Suspect</td>\n",
       "      <td>NaN</td>\n",
       "      <td>2019</td>\n",
       "      <td>5</td>\n",
       "      <td>2</td>\n",
       "      <td>Private investigators California Fiction, Priv...</td>\n",
       "      <td>Little, Brown and Co.,</td>\n",
       "      <td>2012</td>\n",
       "    </tr>\n",
       "  </tbody>\n",
       "</table>\n",
       "</div>"
      ],
      "text/plain": [
       "  Material Type       Title Series  Checkout Year  Checkout Month  Checkouts  \\\n",
       "0          BOOK  #1 Suspect    NaN           2019               8          1   \n",
       "1          BOOK  #1 Suspect    NaN           2019               6          1   \n",
       "2          BOOK  #1 Suspect    NaN           2019               6          2   \n",
       "3          BOOK  #1 Suspect    NaN           2019               5          1   \n",
       "4          BOOK  #1 Suspect    NaN           2019               5          2   \n",
       "\n",
       "                                            Subjects               Publisher  \\\n",
       "0  Private investigators California Fiction, Priv...  Little, Brown and Co.,   \n",
       "1  Private investigators California Fiction, Priv...  Little, Brown and Co.,   \n",
       "2  Private investigators California Fiction, Priv...  Little, Brown and Co.,   \n",
       "3  Private investigators California Fiction, Priv...  Little, Brown and Co.,   \n",
       "4  Private investigators California Fiction, Priv...  Little, Brown and Co.,   \n",
       "\n",
       "  Publication Year  \n",
       "0             2012  \n",
       "1             2012  \n",
       "2             2012  \n",
       "3             2012  \n",
       "4             2012  "
      ]
     },
     "execution_count": 3,
     "metadata": {},
     "output_type": "execute_result"
    }
   ],
   "source": [
    "# Take a look at the first few rows\n",
    "\n",
    "df.head()"
   ]
  },
  {
   "cell_type": "code",
   "execution_count": 4,
   "metadata": {},
   "outputs": [
    {
     "data": {
      "text/plain": [
       "17918"
      ]
     },
     "execution_count": 4,
     "metadata": {},
     "output_type": "execute_result"
    }
   ],
   "source": [
    "# How many rows are in this data frame?\n",
    "\n",
    "len(df)"
   ]
  },
  {
   "cell_type": "code",
   "execution_count": 5,
   "metadata": {},
   "outputs": [
    {
     "data": {
      "text/plain": [
       "9"
      ]
     },
     "execution_count": 5,
     "metadata": {},
     "output_type": "execute_result"
    }
   ],
   "source": [
    "# How many columns?\n",
    "\n",
    "len(df.columns)"
   ]
  },
  {
   "cell_type": "code",
   "execution_count": 6,
   "metadata": {
    "scrolled": false
   },
   "outputs": [
    {
     "data": {
      "text/plain": [
       "Index(['Material Type', 'Title', 'Series', 'Checkout Year', 'Checkout Month',\n",
       "       'Checkouts', 'Subjects', 'Publisher', 'Publication Year'],\n",
       "      dtype='object')"
      ]
     },
     "execution_count": 6,
     "metadata": {},
     "output_type": "execute_result"
    }
   ],
   "source": [
    "# What are the columns?\n",
    "\n",
    "df.columns"
   ]
  },
  {
   "cell_type": "code",
   "execution_count": 7,
   "metadata": {},
   "outputs": [
    {
     "data": {
      "text/plain": [
       "Material Type          0\n",
       "Title                  0\n",
       "Series              5379\n",
       "Checkout Year          0\n",
       "Checkout Month         0\n",
       "Checkouts              0\n",
       "Subjects               0\n",
       "Publisher              0\n",
       "Publication Year       0\n",
       "dtype: int64"
      ]
     },
     "execution_count": 7,
     "metadata": {},
     "output_type": "execute_result"
    }
   ],
   "source": [
    "# Take a look at Null Values\n",
    "\n",
    "df.isnull().sum()"
   ]
  },
  {
   "cell_type": "code",
   "execution_count": 8,
   "metadata": {
    "scrolled": true
   },
   "outputs": [
    {
     "data": {
      "text/plain": [
       "0        True\n",
       "1        True\n",
       "2        True\n",
       "3        True\n",
       "4        True\n",
       "5        True\n",
       "6        True\n",
       "7        True\n",
       "8        True\n",
       "9        True\n",
       "10       True\n",
       "11       True\n",
       "12       True\n",
       "13       True\n",
       "14       True\n",
       "15       True\n",
       "16       True\n",
       "17       True\n",
       "18       True\n",
       "19       True\n",
       "20       True\n",
       "21       True\n",
       "22       True\n",
       "23       True\n",
       "24       True\n",
       "25       True\n",
       "26       True\n",
       "27       True\n",
       "28       True\n",
       "29       True\n",
       "         ... \n",
       "17888    True\n",
       "17889    True\n",
       "17890    True\n",
       "17891    True\n",
       "17892    True\n",
       "17893    True\n",
       "17894    True\n",
       "17895    True\n",
       "17896    True\n",
       "17897    True\n",
       "17898    True\n",
       "17899    True\n",
       "17900    True\n",
       "17901    True\n",
       "17902    True\n",
       "17903    True\n",
       "17904    True\n",
       "17905    True\n",
       "17906    True\n",
       "17907    True\n",
       "17908    True\n",
       "17909    True\n",
       "17910    True\n",
       "17911    True\n",
       "17912    True\n",
       "17913    True\n",
       "17914    True\n",
       "17915    True\n",
       "17916    True\n",
       "17917    True\n",
       "Name: Series, Length: 17918, dtype: bool"
      ]
     },
     "execution_count": 8,
     "metadata": {},
     "output_type": "execute_result"
    }
   ],
   "source": [
    "# Looking at the Series column before of Null values found in previous analysis\n",
    "\n",
    "df['Series']\n",
    "df['Series'].isnull()"
   ]
  },
  {
   "cell_type": "code",
   "execution_count": 9,
   "metadata": {},
   "outputs": [],
   "source": [
    "# Making a list of missing value types\n",
    "\n",
    "missing_values = [\"n/a\", \"na\", \"--\", \"NaN\"]\n",
    "df = pd.read_csv(\"Seattle Library James Patterson Book Checkouts.csv\", na_values = missing_values)"
   ]
  },
  {
   "cell_type": "code",
   "execution_count": 10,
   "metadata": {},
   "outputs": [
    {
     "data": {
      "text/plain": [
       "Material Type          0\n",
       "Title                  0\n",
       "Series              5379\n",
       "Checkout Year          0\n",
       "Checkout Month         0\n",
       "Checkouts              0\n",
       "Subjects               0\n",
       "Publisher              0\n",
       "Publication Year       0\n",
       "dtype: int64"
      ]
     },
     "execution_count": 10,
     "metadata": {},
     "output_type": "execute_result"
    }
   ],
   "source": [
    "# Making sure all null values are accounted for, in case entry of null changes\n",
    "\n",
    "df.isnull().sum()"
   ]
  },
  {
   "cell_type": "code",
   "execution_count": 11,
   "metadata": {},
   "outputs": [
    {
     "name": "stdout",
     "output_type": "stream",
     "text": [
      "<class 'pandas.core.frame.DataFrame'>\n",
      "RangeIndex: 17918 entries, 0 to 17917\n",
      "Data columns (total 9 columns):\n",
      "Material Type       17918 non-null object\n",
      "Title               17918 non-null object\n",
      "Series              12539 non-null object\n",
      "Checkout Year       17918 non-null int64\n",
      "Checkout Month      17918 non-null int64\n",
      "Checkouts           17918 non-null int64\n",
      "Subjects            17918 non-null object\n",
      "Publisher           17918 non-null object\n",
      "Publication Year    17918 non-null object\n",
      "dtypes: int64(3), object(6)\n",
      "memory usage: 1.2+ MB\n"
     ]
    }
   ],
   "source": [
    "# Also check data types and null values using the following\n",
    "\n",
    "df.info()"
   ]
  },
  {
   "cell_type": "code",
   "execution_count": 12,
   "metadata": {},
   "outputs": [
    {
     "data": {
      "text/plain": [
       "array(['2012', '2016', '2011', '2013', '2015', '2017', '2001', '2007',\n",
       "       '[2005], ©2004.', '2005', '2009', '2008', '2009, c2008.', '2006',\n",
       "       '2019', '[2003]', '2018', '2012, c2011.', '[2012]', 'c2012.',\n",
       "       '2014', '2002', 'c2005.', '[2000]', 'c2000.', '2010',\n",
       "       '2008, c2007.', '2011, c2010.', '2011, ©2002.', 'c2011.', '[2017]',\n",
       "       'c1996.', '[2018]', '[2019]', '[2011]', '2000', '2000, c1995.',\n",
       "       '[2004]', '2005, ©2004.', 'c2004.', '[2009]', 'c2009.', '[2014]',\n",
       "       '1999', '[2010]', 'c2010.', '[2006]', '2007, 2006.', '[2013]',\n",
       "       'c2001.', 'C2016.', '2008, c2006.', '2011, ©2010.', '2007, c2005.',\n",
       "       '2009, c2005.', 'c2002.', '[2004], c2003.', '2009, c2007.', '2003',\n",
       "       '©2003.', '[2016]', '[2001]', '2010, c2001.', '[1998]', 'c1998.'],\n",
       "      dtype=object)"
      ]
     },
     "execution_count": 12,
     "metadata": {},
     "output_type": "execute_result"
    }
   ],
   "source": [
    "pub_arr = df['Publication Year'].unique()\n",
    "pub_arr"
   ]
  },
  {
   "cell_type": "code",
   "execution_count": 13,
   "metadata": {},
   "outputs": [
    {
     "data": {
      "text/plain": [
       "65"
      ]
     },
     "execution_count": 13,
     "metadata": {},
     "output_type": "execute_result"
    }
   ],
   "source": [
    "len(pub_arr)"
   ]
  },
  {
   "cell_type": "markdown",
   "metadata": {},
   "source": [
    "### 65 Unique Years!\n",
    "\n",
    "The years were entered in various formats that included brackets and copyright symbols. We only want dates from 1996 to 2019, a total of 23 unique years. "
   ]
  },
  {
   "cell_type": "markdown",
   "metadata": {},
   "source": [
    "# Checkpoint #1 \n",
    "\n",
    "\n",
    "A good strategy is to create checkpoints since the work done before this point have been working properly. You can refer back to various points to see where the codes have messed up.\n",
    "\n",
    "Let's make a copy of df as df2. "
   ]
  },
  {
   "cell_type": "code",
   "execution_count": 14,
   "metadata": {},
   "outputs": [],
   "source": [
    "df2 = df"
   ]
  },
  {
   "cell_type": "code",
   "execution_count": 15,
   "metadata": {},
   "outputs": [
    {
     "data": {
      "text/plain": [
       "array(['2012', '2016', '2011', '2013', '2015', '2017', '2001', '2007',\n",
       "       '[2005], ©2004.', '2005', '2009', '2008', '2009, c2008.', '2006',\n",
       "       '2019', '[2003]', '2018', '2012, c2011.', '[2012]', 'c2012.',\n",
       "       '2014', '2002', 'c2005.', '[2000]', 'c2000.', '2010',\n",
       "       '2008, c2007.', '2011, c2010.', '2011, ©2002.', 'c2011.', '[2017]',\n",
       "       'c1996.', '[2018]', '[2019]', '[2011]', '2000', '2000, c1995.',\n",
       "       '[2004]', '2005, ©2004.', 'c2004.', '[2009]', 'c2009.', '[2014]',\n",
       "       '1999', '[2010]', 'c2010.', '[2006]', '2007, 2006.', '[2013]',\n",
       "       'c2001.', 'C2016.', '2008, c2006.', '2011, ©2010.', '2007, c2005.',\n",
       "       '2009, c2005.', 'c2002.', '[2004], c2003.', '2009, c2007.', '2003',\n",
       "       '©2003.', '[2016]', '[2001]', '2010, c2001.', '[1998]', 'c1998.'],\n",
       "      dtype=object)"
      ]
     },
     "execution_count": 15,
     "metadata": {},
     "output_type": "execute_result"
    }
   ],
   "source": [
    "df2['Publication Year'].unique()"
   ]
  },
  {
   "cell_type": "code",
   "execution_count": 16,
   "metadata": {},
   "outputs": [],
   "source": [
    "# Let's clean that up using the replace method! \n",
    "\n",
    "# Make a variable with characters to be replace/deleted\n",
    "rep_chars = 'c|C|\\]|\\[|©|\\.'\n",
    "\n",
    "# Use a FOR Loop with .replace() along with rep_chars \n",
    "df2['Publication Year'] = df2['Publication Year'].str.replace(rep_chars,\"\")\n",
    "    "
   ]
  },
  {
   "cell_type": "code",
   "execution_count": 17,
   "metadata": {},
   "outputs": [
    {
     "data": {
      "text/plain": [
       "array(['2012', '2016', '2011', '2013', '2015', '2017', '2001', '2007',\n",
       "       '2005, 2004', '2005', '2009', '2008', '2009, 2008', '2006', '2019',\n",
       "       '2003', '2018', '2012, 2011', '2014', '2002', '2000', '2010',\n",
       "       '2008, 2007', '2011, 2010', '2011, 2002', '1996', '2000, 1995',\n",
       "       '2004', '1999', '2007, 2006', '2008, 2006', '2007, 2005',\n",
       "       '2009, 2005', '2004, 2003', '2009, 2007', '2010, 2001', '1998'],\n",
       "      dtype=object)"
      ]
     },
     "execution_count": 17,
     "metadata": {},
     "output_type": "execute_result"
    }
   ],
   "source": [
    "# Check how many unique values are NOW in Publication Year\n",
    "\n",
    "df2['Publication Year'].unique()"
   ]
  },
  {
   "cell_type": "code",
   "execution_count": 18,
   "metadata": {},
   "outputs": [
    {
     "data": {
      "text/plain": [
       "37"
      ]
     },
     "execution_count": 18,
     "metadata": {},
     "output_type": "execute_result"
    }
   ],
   "source": [
    "# Count the unique publication years \n",
    "\n",
    "count_years = len(df2['Publication Year'].unique())\n",
    "count_years"
   ]
  },
  {
   "cell_type": "markdown",
   "metadata": {},
   "source": [
    "### From 65 unique years we cut the number of years to 37, almost half!\n",
    "\n",
    "So there's more work to be done in order to get to the 23 unique years that we want. And looking at the values inside the array we can see that some values come as pairs. Why is that? \n",
    "\n",
    "Let's see"
   ]
  },
  {
   "cell_type": "code",
   "execution_count": 19,
   "metadata": {},
   "outputs": [
    {
     "data": {
      "text/plain": [
       "2012          1897\n",
       "2011          1703\n",
       "2009          1573\n",
       "2010          1507\n",
       "2014          1425\n",
       "2013          1263\n",
       "2016          1133\n",
       "2015          1102\n",
       "2008          1019\n",
       "2007           972\n",
       "2017           956\n",
       "2001           468\n",
       "2018           418\n",
       "2006           398\n",
       "2005           390\n",
       "2004           234\n",
       "2003           226\n",
       "1999           191\n",
       "2002           177\n",
       "2000           113\n",
       "1996            87\n",
       "2019            87\n",
       "2000, 1995      82\n",
       "2011, 2010      78\n",
       "2005, 2004      57\n",
       "2009, 2005      50\n",
       "2012, 2011      44\n",
       "2009, 2007      43\n",
       "2007, 2005      41\n",
       "2007, 2006      40\n",
       "2008, 2007      40\n",
       "2010, 2001      21\n",
       "2008, 2006      19\n",
       "2004, 2003      18\n",
       "1998            18\n",
       "2009, 2008      17\n",
       "2011, 2002      11\n",
       "Name: Publication Year, dtype: int64"
      ]
     },
     "execution_count": 19,
     "metadata": {},
     "output_type": "execute_result"
    }
   ],
   "source": [
    "# Group the numbers of books checked out by years\n",
    "\n",
    "df2['Publication Year'].value_counts()"
   ]
  },
  {
   "cell_type": "markdown",
   "metadata": {},
   "source": [
    "The reason for the paired values is that Mr Patterson's books must have been republished, possibly in a different format, an added foreword, etc, so the publishers can sell more of his books. \n",
    "\n",
    "For data analysis to work properly we will always want a single value in a single cell. So that's our next task: to break the pairs up and treat them as one values rather than two.\n",
    "\n",
    "A choice has to be made here: do we include the checkouts in the year when the book was first published or use the latest publication year? \n",
    "\n",
    "Let's go for the latest published year."
   ]
  },
  {
   "cell_type": "code",
   "execution_count": 20,
   "metadata": {},
   "outputs": [],
   "source": [
    "# Split the pairs and add the checkouts to the latest published year \n",
    "\n",
    "df2['Publication Year'] = df2['Publication Year'].str.split(pat=',', expand=True) "
   ]
  },
  {
   "cell_type": "code",
   "execution_count": 21,
   "metadata": {},
   "outputs": [
    {
     "data": {
      "text/plain": [
       "2012    1941\n",
       "2011    1792\n",
       "2009    1683\n",
       "2010    1528\n",
       "2014    1425\n",
       "2013    1263\n",
       "2016    1133\n",
       "2015    1102\n",
       "2008    1078\n",
       "2007    1053\n",
       "2017     956\n",
       "2001     468\n",
       "2005     447\n",
       "2018     418\n",
       "2006     398\n",
       "2004     252\n",
       "2003     226\n",
       "2000     195\n",
       "1999     191\n",
       "2002     177\n",
       "2019      87\n",
       "1996      87\n",
       "1998      18\n",
       "Name: Publication Year, dtype: int64"
      ]
     },
     "execution_count": 21,
     "metadata": {},
     "output_type": "execute_result"
    }
   ],
   "source": [
    "# Let's check the checkout numbers by years again\n",
    "\n",
    "df2['Publication Year'].value_counts()"
   ]
  },
  {
   "cell_type": "code",
   "execution_count": 22,
   "metadata": {},
   "outputs": [
    {
     "data": {
      "text/plain": [
       "23"
      ]
     },
     "execution_count": 22,
     "metadata": {},
     "output_type": "execute_result"
    }
   ],
   "source": [
    "# Let's also check whether we've gotten to our desired number of unique years\n",
    "\n",
    "count_years2 = len(df2['Publication Year'].unique())\n",
    "count_years2"
   ]
  },
  {
   "cell_type": "markdown",
   "metadata": {},
   "source": [
    "# Checkpoint #2 - Let's make charts"
   ]
  },
  {
   "cell_type": "code",
   "execution_count": 23,
   "metadata": {},
   "outputs": [],
   "source": [
    "df3 = df2"
   ]
  },
  {
   "cell_type": "code",
   "execution_count": 24,
   "metadata": {},
   "outputs": [
    {
     "data": {
      "text/html": [
       "<div>\n",
       "<style scoped>\n",
       "    .dataframe tbody tr th:only-of-type {\n",
       "        vertical-align: middle;\n",
       "    }\n",
       "\n",
       "    .dataframe tbody tr th {\n",
       "        vertical-align: top;\n",
       "    }\n",
       "\n",
       "    .dataframe thead th {\n",
       "        text-align: right;\n",
       "    }\n",
       "</style>\n",
       "<table border=\"1\" class=\"dataframe\">\n",
       "  <thead>\n",
       "    <tr style=\"text-align: right;\">\n",
       "      <th></th>\n",
       "      <th>Material Type</th>\n",
       "      <th>Title</th>\n",
       "      <th>Series</th>\n",
       "      <th>Checkout Year</th>\n",
       "      <th>Checkout Month</th>\n",
       "      <th>Checkouts</th>\n",
       "      <th>Subjects</th>\n",
       "      <th>Publisher</th>\n",
       "      <th>Publication Year</th>\n",
       "    </tr>\n",
       "  </thead>\n",
       "  <tbody>\n",
       "    <tr>\n",
       "      <th>0</th>\n",
       "      <td>BOOK</td>\n",
       "      <td>#1 Suspect</td>\n",
       "      <td>NaN</td>\n",
       "      <td>2019</td>\n",
       "      <td>8</td>\n",
       "      <td>1</td>\n",
       "      <td>Private investigators California Fiction, Priv...</td>\n",
       "      <td>Little, Brown and Co.,</td>\n",
       "      <td>2012</td>\n",
       "    </tr>\n",
       "    <tr>\n",
       "      <th>1</th>\n",
       "      <td>BOOK</td>\n",
       "      <td>#1 Suspect</td>\n",
       "      <td>NaN</td>\n",
       "      <td>2019</td>\n",
       "      <td>6</td>\n",
       "      <td>1</td>\n",
       "      <td>Private investigators California Fiction, Priv...</td>\n",
       "      <td>Little, Brown and Co.,</td>\n",
       "      <td>2012</td>\n",
       "    </tr>\n",
       "    <tr>\n",
       "      <th>2</th>\n",
       "      <td>BOOK</td>\n",
       "      <td>#1 Suspect</td>\n",
       "      <td>NaN</td>\n",
       "      <td>2019</td>\n",
       "      <td>6</td>\n",
       "      <td>2</td>\n",
       "      <td>Private investigators California Fiction, Priv...</td>\n",
       "      <td>Little, Brown and Co.,</td>\n",
       "      <td>2012</td>\n",
       "    </tr>\n",
       "    <tr>\n",
       "      <th>3</th>\n",
       "      <td>BOOK</td>\n",
       "      <td>#1 Suspect</td>\n",
       "      <td>NaN</td>\n",
       "      <td>2019</td>\n",
       "      <td>5</td>\n",
       "      <td>1</td>\n",
       "      <td>Private investigators California Fiction, Priv...</td>\n",
       "      <td>Little, Brown and Co.,</td>\n",
       "      <td>2012</td>\n",
       "    </tr>\n",
       "    <tr>\n",
       "      <th>4</th>\n",
       "      <td>BOOK</td>\n",
       "      <td>#1 Suspect</td>\n",
       "      <td>NaN</td>\n",
       "      <td>2019</td>\n",
       "      <td>5</td>\n",
       "      <td>2</td>\n",
       "      <td>Private investigators California Fiction, Priv...</td>\n",
       "      <td>Little, Brown and Co.,</td>\n",
       "      <td>2012</td>\n",
       "    </tr>\n",
       "  </tbody>\n",
       "</table>\n",
       "</div>"
      ],
      "text/plain": [
       "  Material Type       Title Series  Checkout Year  Checkout Month  Checkouts  \\\n",
       "0          BOOK  #1 Suspect    NaN           2019               8          1   \n",
       "1          BOOK  #1 Suspect    NaN           2019               6          1   \n",
       "2          BOOK  #1 Suspect    NaN           2019               6          2   \n",
       "3          BOOK  #1 Suspect    NaN           2019               5          1   \n",
       "4          BOOK  #1 Suspect    NaN           2019               5          2   \n",
       "\n",
       "                                            Subjects               Publisher  \\\n",
       "0  Private investigators California Fiction, Priv...  Little, Brown and Co.,   \n",
       "1  Private investigators California Fiction, Priv...  Little, Brown and Co.,   \n",
       "2  Private investigators California Fiction, Priv...  Little, Brown and Co.,   \n",
       "3  Private investigators California Fiction, Priv...  Little, Brown and Co.,   \n",
       "4  Private investigators California Fiction, Priv...  Little, Brown and Co.,   \n",
       "\n",
       "  Publication Year  \n",
       "0             2012  \n",
       "1             2012  \n",
       "2             2012  \n",
       "3             2012  \n",
       "4             2012  "
      ]
     },
     "execution_count": 24,
     "metadata": {},
     "output_type": "execute_result"
    }
   ],
   "source": [
    "df3.head()"
   ]
  },
  {
   "cell_type": "code",
   "execution_count": 25,
   "metadata": {},
   "outputs": [
    {
     "data": {
      "text/plain": [
       "17918"
      ]
     },
     "execution_count": 25,
     "metadata": {},
     "output_type": "execute_result"
    }
   ],
   "source": [
    "# Count the number of rows\n",
    "\n",
    "len(df3)"
   ]
  },
  {
   "cell_type": "markdown",
   "metadata": {},
   "source": [
    "### Great, no rows were harmed in our clean up!"
   ]
  },
  {
   "cell_type": "code",
   "execution_count": 26,
   "metadata": {},
   "outputs": [
    {
     "data": {
      "text/plain": [
       "<matplotlib.axes._subplots.AxesSubplot at 0x1a24c7ff98>"
      ]
     },
     "execution_count": 26,
     "metadata": {},
     "output_type": "execute_result"
    },
    {
     "data": {
      "image/png": "[encoded data removed]",
      "text/plain": [
       "<Figure size 432x288 with 1 Axes>"
      ]
     },
     "metadata": {
      "needs_background": "light"
     },
     "output_type": "display_data"
    }
   ],
   "source": [
    "# Let's make a Bar Chart, in the color Teal of the number of check outs grouped by year.\n",
    "\n",
    "\n",
    "df3.groupby('Checkout Year').Checkouts.sum().reset_index().plot('Checkout Year', 'Checkouts', color='darkviolet')\n",
    "\n"
   ]
  },
  {
   "cell_type": "code",
   "execution_count": 27,
   "metadata": {},
   "outputs": [
    {
     "data": {
      "text/plain": [
       "<matplotlib.axes._subplots.AxesSubplot at 0x1a23de2d30>"
      ]
     },
     "execution_count": 27,
     "metadata": {},
     "output_type": "execute_result"
    },
    {
     "data": {
      "image/png": "[encoded data removed]",
      "text/plain": [
       "<Figure size 432x288 with 1 Axes>"
      ]
     },
     "metadata": {
      "needs_background": "light"
     },
     "output_type": "display_data"
    }
   ],
   "source": [
    "# Let's make a Bar Char of the number of Titles published each year.\n",
    "\n",
    "df3.groupby('Publication Year').Title.nunique().reset_index().plot('Publication Year', 'Title', kind='bar', color='teal')"
   ]
  },
  {
   "cell_type": "markdown",
   "metadata": {},
   "source": [
    "# Finally, let's export our newly cleaned data set in .csv format so we can import it into Tableau to make an amazing visualization!"
   ]
  },
  {
   "cell_type": "code",
   "execution_count": 28,
   "metadata": {},
   "outputs": [],
   "source": [
    "df3.to_csv('MM2019w37_Clean.csv', index=False)"
   ]
  }
 ],
 "metadata": {
  "kernelspec": {
   "display_name": "Python 3",
   "language": "python",
   "name": "python3"
  },
  "language_info": {
   "codemirror_mode": {
    "name": "ipython",
    "version": 3
   },
   "file_extension": ".py",
   "mimetype": "text/x-python",
   "name": "python",
   "nbconvert_exporter": "python",
   "pygments_lexer": "ipython3",
   "version": "3.7.3"
  }
 },
 "nbformat": 4,
 "nbformat_minor": 2
}
